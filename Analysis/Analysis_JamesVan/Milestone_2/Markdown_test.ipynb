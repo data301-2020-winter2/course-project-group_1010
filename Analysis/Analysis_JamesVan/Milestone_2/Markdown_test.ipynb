{
 "cells": [
  {
   "cell_type": "markdown",
   "id": "studied-building",
   "metadata": {},
   "source": [
    "**Bold Text**"
   ]
  },
  {
   "cell_type": "markdown",
   "id": "third-ranch",
   "metadata": {},
   "source": [
    "*List of my favorite Children*\n",
    "1. Noah"
   ]
  },
  {
   "cell_type": "markdown",
   "id": "british-discrimination",
   "metadata": {},
   "source": [
    "> Quoted text"
   ]
  },
  {
   "cell_type": "markdown",
   "id": "higher-norfolk",
   "metadata": {},
   "source": [
    "---"
   ]
  },
  {
   "cell_type": "code",
   "execution_count": null,
   "id": "standard-illinois",
   "metadata": {},
   "outputs": [],
   "source": []
  }
 ],
 "metadata": {
  "kernelspec": {
   "display_name": "Python 3",
   "language": "python",
   "name": "python3"
  },
  "language_info": {
   "codemirror_mode": {
    "name": "ipython",
    "version": 3
   },
   "file_extension": ".py",
   "mimetype": "text/x-python",
   "name": "python",
   "nbconvert_exporter": "python",
   "pygments_lexer": "ipython3",
   "version": "3.8.5"
  }
 },
 "nbformat": 4,
 "nbformat_minor": 5
}
