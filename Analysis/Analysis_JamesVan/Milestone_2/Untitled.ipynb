{
 "cells": [
  {
   "cell_type": "markdown",
   "id": "embedded-latitude",
   "metadata": {},
   "source": [
    "**Bold Text**"
   ]
  },
  {
   "cell_type": "markdown",
   "id": "persistent-scholarship",
   "metadata": {},
   "source": [
    "[![https://user-images.githubusercontent.com/77308005/110559328-dba1f080-80f8-11eb-8d2e-4f8922b711e6.png]"
   ]
  },
  {
   "cell_type": "markdown",
   "id": "generic-bargain",
   "metadata": {},
   "source": [
    "*List of my favorite Children*\n",
    "1. Noah"
   ]
  },
  {
   "cell_type": "markdown",
   "id": "initial-serial",
   "metadata": {},
   "source": [
    "> Quoted text"
   ]
  },
  {
   "cell_type": "markdown",
   "id": "coral-dublin",
   "metadata": {},
   "source": [
    "---"
   ]
  },
  {
   "cell_type": "code",
   "execution_count": null,
   "id": "offshore-premium",
   "metadata": {},
   "outputs": [],
   "source": []
  }
 ],
 "metadata": {
  "kernelspec": {
   "display_name": "Python 3",
   "language": "python",
   "name": "python3"
  },
  "language_info": {
   "codemirror_mode": {
    "name": "ipython",
    "version": 3
   },
   "file_extension": ".py",
   "mimetype": "text/x-python",
   "name": "python",
   "nbconvert_exporter": "python",
   "pygments_lexer": "ipython3",
   "version": "3.8.5"
  }
 },
 "nbformat": 4,
 "nbformat_minor": 5
}
