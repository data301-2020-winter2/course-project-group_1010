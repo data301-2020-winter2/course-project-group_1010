{
 "cells": [
  {
   "cell_type": "markdown",
   "id": "square-equipment",
   "metadata": {},
   "source": [
    "**Bold Text**"
   ]
  },
  {
   "cell_type": "markdown",
   "id": "seven-ordinary",
   "metadata": {},
   "source": [
    "*List of my favorite Children*\n",
    "1. Noah"
   ]
  },
  {
   "cell_type": "markdown",
   "id": "automatic-location",
   "metadata": {},
   "source": [
    "> Quoted text"
   ]
  },
  {
   "cell_type": "markdown",
   "id": "above-providence",
   "metadata": {},
   "source": [
    "---"
   ]
  },
  {
   "cell_type": "code",
   "execution_count": null,
   "id": "blocked-roots",
   "metadata": {},
   "outputs": [],
   "source": []
  }
 ],
 "metadata": {
  "kernelspec": {
   "display_name": "Python 3",
   "language": "python",
   "name": "python3"
  },
  "language_info": {
   "codemirror_mode": {
    "name": "ipython",
    "version": 3
   },
   "file_extension": ".py",
   "mimetype": "text/x-python",
   "name": "python",
   "nbconvert_exporter": "python",
   "pygments_lexer": "ipython3",
   "version": "3.8.5"
  }
 },
 "nbformat": 4,
 "nbformat_minor": 5
}
