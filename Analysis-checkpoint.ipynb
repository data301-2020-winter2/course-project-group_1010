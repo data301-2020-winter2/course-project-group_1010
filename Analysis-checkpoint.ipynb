{
 "cells": [
  {
   "cell_type": "code",
   "execution_count": 3,
   "metadata": {},
   "outputs": [],
   "source": [
    "import pandas as pd\n",
    "def load_and_process(url_or_path_to_csv_file):\n",
    "    \n",
    "    # Method chanin 1 (load data and rename columns)\n",
    "    \n",
    "    df1 = (\n",
    "          pd.read_csv(url_or_path_to_csv_file)\n",
    "          .rename(columns={'age': 'AGE', 'sex': 'SEX', 'bmi': 'BMI', 'children': 'CHILDREN', 'smoker': 'SMOKER', 'region': 'REGION', 'charges': 'MEDICAL CHARGES'})\n",
    "          )\n",
    "    \n",
    "    # Method chain 2 (Drop columns, round values and sort values)\n",
    "    df2 = (\n",
    "          df1\n",
    "          .drop(['REGION'], axis=1)\n",
    "          .round(2)\n",
    "          .sort_values(\"AGE\", ascending=True)\n",
    "          )\n",
    "    \n",
    "    # Method chain 3 (Sort Data to locate smokers and style currency values)\n",
    "    df3 = (\n",
    "          df2\n",
    "          .loc[lambda x: x['SMOKER'] == 'yes']\n",
    "          .style.format({'MEDICAL CHARGES':'${0:,.2F}'})\n",
    "          )\n",
    "    \n",
    "    return df3"
   ]
  },
  {
   "cell_type": "code",
   "execution_count": null,
   "metadata": {},
   "outputs": [],
   "source": []
  }
 ],
 "metadata": {
  "kernelspec": {
   "display_name": "Python 3",
   "language": "python",
   "name": "python3"
  },
  "language_info": {
   "codemirror_mode": {
    "name": "ipython",
    "version": 3
   },
   "file_extension": ".py",
   "mimetype": "text/x-python",
   "name": "python",
   "nbconvert_exporter": "python",
   "pygments_lexer": "ipython3",
   "version": "3.8.5"
  }
 },
 "nbformat": 4,
 "nbformat_minor": 4
}
